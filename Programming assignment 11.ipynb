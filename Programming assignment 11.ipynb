{
 "cells": [
  {
   "cell_type": "markdown",
   "id": "fd37b55f",
   "metadata": {},
   "source": [
    ">__1.\tWrite a Python program to find words which are greater than given length k?__"
   ]
  },
  {
   "cell_type": "code",
   "execution_count": 4,
   "id": "570d2063",
   "metadata": {},
   "outputs": [
    {
     "name": "stdout",
     "output_type": "stream",
     "text": [
      "Python\n",
      "better\n",
      "learn\n",
      "iNeuron\n"
     ]
    }
   ],
   "source": [
    "def word_k(k, s):    \n",
    "    word = s.split()\n",
    "    for x in word:\n",
    "        if len(x)>k:\n",
    "          print(x)\n",
    "k = 4\n",
    "s =\"Python is good and it's better when you learn from iNeuron \"\n",
    "word_k(k, s)"
   ]
  },
  {
   "cell_type": "markdown",
   "id": "96c04639",
   "metadata": {},
   "source": [
    ">__2.\tWrite a Python program for removing i-th character from a string?__"
   ]
  },
  {
   "cell_type": "code",
   "execution_count": 6,
   "id": "4f19d47c",
   "metadata": {},
   "outputs": [
    {
     "name": "stdout",
     "output_type": "stream",
     "text": [
      "Pythonigood\n"
     ]
    }
   ],
   "source": [
    "def remove_char(s, i):\n",
    "    a = s[ : i]\n",
    "    b = s[i + 1: ]\n",
    "\n",
    "    return a+b\n",
    "\n",
    "string = \"Pythonisgood\"\n",
    "i = 8\n",
    "print(remove_char(string,i-1))"
   ]
  },
  {
   "cell_type": "markdown",
   "id": "d73ad950",
   "metadata": {},
   "source": [
    ">__3.\tWrite a Python program to split and join a string?__"
   ]
  },
  {
   "cell_type": "code",
   "execution_count": 8,
   "id": "2c71c702",
   "metadata": {},
   "outputs": [
    {
     "name": "stdout",
     "output_type": "stream",
     "text": [
      "After Splitting:  ['Welcome', 'to', 'full', 'stack', 'data', 'science', 'batch']\n",
      "After joining:  Welcome-to-full-stack-data-science-batch\n"
     ]
    }
   ],
   "source": [
    "def split_string(string):\n",
    "    list_string = string.split()\n",
    "    return list_string\n",
    "\n",
    "def join_string(list_string):\n",
    "    string = '-'.join(list_string)\n",
    "    return string\n",
    "\n",
    "string = 'Welcome to full stack data science batch'\n",
    "list_string = split_string(string)\n",
    "print(\"After Splitting: \",list_string)\n",
    "\n",
    "res_string = join_string(list_string)\n",
    "print(\"After joining: \",res_string) "
   ]
  },
  {
   "cell_type": "markdown",
   "id": "9b66fde3",
   "metadata": {},
   "source": [
    ">__4.\tWrite a Python to check if a given string is binary string or not?__"
   ]
  },
  {
   "cell_type": "code",
   "execution_count": 9,
   "id": "933842cb",
   "metadata": {},
   "outputs": [
    {
     "name": "stdout",
     "output_type": "stream",
     "text": [
      "Yes\n"
     ]
    }
   ],
   "source": [
    "import re\n",
    "\n",
    "sampleInput = \"1001010\"\n",
    "c = re.compile('[^01]')\n",
    "\n",
    "if(len(c.findall(sampleInput))):\n",
    "    print(\"No\") # if length of list > 0 then it is not binary\n",
    "else:\n",
    "    print(\"Yes\") # if length of list = 0 then it is binary\n"
   ]
  },
  {
   "cell_type": "markdown",
   "id": "33e47fe7",
   "metadata": {},
   "source": [
    ">__5.\tWrite a Python program to find uncommon words from two Strings?__"
   ]
  },
  {
   "cell_type": "code",
   "execution_count": 10,
   "id": "a6e9d00a",
   "metadata": {},
   "outputs": [
    {
     "name": "stdout",
     "output_type": "stream",
     "text": [
      " apple fruits\n"
     ]
    }
   ],
   "source": [
    "def uncommon(a,b):\n",
    "    list_a = a.split()\n",
    "    list_b = b.split()\n",
    "    uc = ''\n",
    "    for i in list_a:\n",
    "        if i not in list_b:\n",
    "            uc = uc+\" \"+i\n",
    "    for j in list_b:\n",
    "        if j not in list_a:\n",
    "            uc = uc+\" \"+j\n",
    "\n",
    "    return uc\n",
    "\n",
    "a = \"apple banana mango\"\n",
    "b = \"banana fruits mango\"\n",
    "print(uncommon(a,b))\n"
   ]
  },
  {
   "cell_type": "code",
   "execution_count": 21,
   "id": "687f0333",
   "metadata": {},
   "outputs": [
    {
     "ename": "SyntaxError",
     "evalue": "invalid syntax (<ipython-input-21-6d38adb9a533>, line 6)",
     "output_type": "error",
     "traceback": [
      "\u001b[1;36m  File \u001b[1;32m\"<ipython-input-21-6d38adb9a533>\"\u001b[1;36m, line \u001b[1;32m6\u001b[0m\n\u001b[1;33m    if i=j:\u001b[0m\n\u001b[1;37m        ^\u001b[0m\n\u001b[1;31mSyntaxError\u001b[0m\u001b[1;31m:\u001b[0m invalid syntax\n"
     ]
    }
   ],
   "source": []
  },
  {
   "cell_type": "code",
   "execution_count": null,
   "id": "f88b7081",
   "metadata": {},
   "outputs": [],
   "source": []
  }
 ],
 "metadata": {
  "kernelspec": {
   "display_name": "Python 3",
   "language": "python",
   "name": "python3"
  },
  "language_info": {
   "codemirror_mode": {
    "name": "ipython",
    "version": 3
   },
   "file_extension": ".py",
   "mimetype": "text/x-python",
   "name": "python",
   "nbconvert_exporter": "python",
   "pygments_lexer": "ipython3",
   "version": "3.8.8"
  }
 },
 "nbformat": 4,
 "nbformat_minor": 5
}
